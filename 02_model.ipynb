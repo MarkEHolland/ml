{
 "cells": [
  {
   "cell_type": "markdown",
   "id": "c03b160d-3d4c-4688-af78-2faebb36f807",
   "metadata": {},
   "source": [
    "## build classification model"
   ]
  },
  {
   "cell_type": "code",
   "execution_count": 1,
   "id": "8bbba48d-937f-4ba6-aef0-0ad1da54d731",
   "metadata": {},
   "outputs": [],
   "source": [
    "import pandas as pd\n",
    "import numpy as np\n",
    "import pathlib\n",
    "import json"
   ]
  },
  {
   "cell_type": "code",
   "execution_count": 2,
   "id": "a1ac4beb-f4c4-4abe-9a45-1be4a7a23094",
   "metadata": {},
   "outputs": [],
   "source": [
    "import model\n",
    "from sklearn.model_selection import train_test_split\n",
    "from sklearn import set_config"
   ]
  },
  {
   "cell_type": "markdown",
   "id": "3ec611cd-018c-4eef-9963-6b79db73906d",
   "metadata": {},
   "source": [
    "### load data"
   ]
  },
  {
   "cell_type": "code",
   "execution_count": 3,
   "id": "adb9e9e6-7960-4924-9b24-55cc34e04d87",
   "metadata": {},
   "outputs": [],
   "source": [
    "csv_filename = pathlib.Path(\"input\", \"marketing.csv\")"
   ]
  },
  {
   "cell_type": "code",
   "execution_count": 4,
   "id": "30f6021c-a034-4473-adf5-3cbc764b70c7",
   "metadata": {},
   "outputs": [],
   "source": [
    "try:\n",
    "    df = pd.read_csv(csv_filename,na_values='?')\n",
    "except Exception as e:\n",
    "    print(f'error: {e}')"
   ]
  },
  {
   "cell_type": "markdown",
   "id": "57d9e312-3042-4aeb-86fb-9ca43641329f",
   "metadata": {},
   "source": [
    "### prepare data"
   ]
  },
  {
   "cell_type": "markdown",
   "id": "7859c944-3976-4b19-a2c5-920c6b2d3ae7",
   "metadata": {},
   "source": [
    "#### a) create categorical target from income (i.e. 1=high, 0=low)"
   ]
  },
  {
   "cell_type": "code",
   "execution_count": 5,
   "id": "3940063f-de1c-4151-99b6-3b5df384c78e",
   "metadata": {},
   "outputs": [],
   "source": [
    "df['target'] = np.where(df.income < 5, 0, 1)\n",
    "df.drop(columns='income',inplace=True)"
   ]
  },
  {
   "cell_type": "code",
   "execution_count": 6,
   "id": "a6427f09-8cdc-4a79-ac92-3d7d1734a30c",
   "metadata": {},
   "outputs": [],
   "source": [
    "#### create categorical and numerical features"
   ]
  },
  {
   "cell_type": "code",
   "execution_count": 7,
   "id": "10cbc2d4-5997-4025-813f-4fd890e1d8c2",
   "metadata": {},
   "outputs": [],
   "source": [
    "cat_cols = ['sex', 'marital_status', 'education', 'occupation', 'dual_income','household_status','type_of_home', 'ethnic_class', 'language']\n",
    "num_cols=['age', 'years_in_sf', 'household_members', 'under_18']"
   ]
  },
  {
   "cell_type": "code",
   "execution_count": 8,
   "id": "fa954a71-a003-4648-bb62-447ad4830532",
   "metadata": {},
   "outputs": [],
   "source": [
    "for i in cat_cols:\n",
    "    df[i] = df[i].astype(str)"
   ]
  },
  {
   "cell_type": "code",
   "execution_count": 9,
   "id": "46550354-6b25-4d6b-970b-24b2486e6430",
   "metadata": {},
   "outputs": [],
   "source": [
    "for i in num_cols:\n",
    "    df[i] = df[i].astype(float)"
   ]
  },
  {
   "cell_type": "code",
   "execution_count": 10,
   "id": "36810d5b-4dd8-4223-a1a5-df3f3322d26e",
   "metadata": {},
   "outputs": [
    {
     "data": {
      "text/html": [
       "<div>\n",
       "<style scoped>\n",
       "    .dataframe tbody tr th:only-of-type {\n",
       "        vertical-align: middle;\n",
       "    }\n",
       "\n",
       "    .dataframe tbody tr th {\n",
       "        vertical-align: top;\n",
       "    }\n",
       "\n",
       "    .dataframe thead th {\n",
       "        text-align: right;\n",
       "    }\n",
       "</style>\n",
       "<table border=\"1\" class=\"dataframe\">\n",
       "  <thead>\n",
       "    <tr style=\"text-align: right;\">\n",
       "      <th></th>\n",
       "      <th>sex</th>\n",
       "      <th>marital_status</th>\n",
       "      <th>age</th>\n",
       "      <th>education</th>\n",
       "      <th>occupation</th>\n",
       "      <th>years_in_sf</th>\n",
       "      <th>dual_income</th>\n",
       "      <th>household_members</th>\n",
       "      <th>under_18</th>\n",
       "      <th>household_status</th>\n",
       "      <th>type_of_home</th>\n",
       "      <th>ethnic_class</th>\n",
       "      <th>language</th>\n",
       "      <th>target</th>\n",
       "    </tr>\n",
       "  </thead>\n",
       "  <tbody>\n",
       "    <tr>\n",
       "      <th>0</th>\n",
       "      <td>2</td>\n",
       "      <td>1.0</td>\n",
       "      <td>5.0</td>\n",
       "      <td>4.0</td>\n",
       "      <td>5.0</td>\n",
       "      <td>5.0</td>\n",
       "      <td>3</td>\n",
       "      <td>3.0</td>\n",
       "      <td>0.0</td>\n",
       "      <td>1.0</td>\n",
       "      <td>1.0</td>\n",
       "      <td>7.0</td>\n",
       "      <td>nan</td>\n",
       "      <td>1</td>\n",
       "    </tr>\n",
       "    <tr>\n",
       "      <th>1</th>\n",
       "      <td>1</td>\n",
       "      <td>1.0</td>\n",
       "      <td>5.0</td>\n",
       "      <td>5.0</td>\n",
       "      <td>5.0</td>\n",
       "      <td>5.0</td>\n",
       "      <td>3</td>\n",
       "      <td>5.0</td>\n",
       "      <td>2.0</td>\n",
       "      <td>1.0</td>\n",
       "      <td>1.0</td>\n",
       "      <td>7.0</td>\n",
       "      <td>1.0</td>\n",
       "      <td>1</td>\n",
       "    </tr>\n",
       "    <tr>\n",
       "      <th>2</th>\n",
       "      <td>2</td>\n",
       "      <td>1.0</td>\n",
       "      <td>3.0</td>\n",
       "      <td>5.0</td>\n",
       "      <td>1.0</td>\n",
       "      <td>5.0</td>\n",
       "      <td>2</td>\n",
       "      <td>3.0</td>\n",
       "      <td>1.0</td>\n",
       "      <td>2.0</td>\n",
       "      <td>3.0</td>\n",
       "      <td>7.0</td>\n",
       "      <td>1.0</td>\n",
       "      <td>1</td>\n",
       "    </tr>\n",
       "    <tr>\n",
       "      <th>3</th>\n",
       "      <td>2</td>\n",
       "      <td>5.0</td>\n",
       "      <td>1.0</td>\n",
       "      <td>2.0</td>\n",
       "      <td>6.0</td>\n",
       "      <td>5.0</td>\n",
       "      <td>1</td>\n",
       "      <td>4.0</td>\n",
       "      <td>2.0</td>\n",
       "      <td>3.0</td>\n",
       "      <td>1.0</td>\n",
       "      <td>7.0</td>\n",
       "      <td>1.0</td>\n",
       "      <td>0</td>\n",
       "    </tr>\n",
       "    <tr>\n",
       "      <th>4</th>\n",
       "      <td>2</td>\n",
       "      <td>5.0</td>\n",
       "      <td>1.0</td>\n",
       "      <td>2.0</td>\n",
       "      <td>6.0</td>\n",
       "      <td>3.0</td>\n",
       "      <td>1</td>\n",
       "      <td>4.0</td>\n",
       "      <td>2.0</td>\n",
       "      <td>3.0</td>\n",
       "      <td>1.0</td>\n",
       "      <td>7.0</td>\n",
       "      <td>1.0</td>\n",
       "      <td>0</td>\n",
       "    </tr>\n",
       "  </tbody>\n",
       "</table>\n",
       "</div>"
      ],
      "text/plain": [
       "  sex marital_status  age education occupation  years_in_sf dual_income  \\\n",
       "0   2            1.0  5.0       4.0        5.0          5.0           3   \n",
       "1   1            1.0  5.0       5.0        5.0          5.0           3   \n",
       "2   2            1.0  3.0       5.0        1.0          5.0           2   \n",
       "3   2            5.0  1.0       2.0        6.0          5.0           1   \n",
       "4   2            5.0  1.0       2.0        6.0          3.0           1   \n",
       "\n",
       "   household_members  under_18 household_status type_of_home ethnic_class  \\\n",
       "0                3.0       0.0              1.0          1.0          7.0   \n",
       "1                5.0       2.0              1.0          1.0          7.0   \n",
       "2                3.0       1.0              2.0          3.0          7.0   \n",
       "3                4.0       2.0              3.0          1.0          7.0   \n",
       "4                4.0       2.0              3.0          1.0          7.0   \n",
       "\n",
       "  language  target  \n",
       "0      nan       1  \n",
       "1      1.0       1  \n",
       "2      1.0       1  \n",
       "3      1.0       0  \n",
       "4      1.0       0  "
      ]
     },
     "execution_count": 10,
     "metadata": {},
     "output_type": "execute_result"
    }
   ],
   "source": [
    "df.head()"
   ]
  },
  {
   "cell_type": "markdown",
   "id": "fa107bed-0ac7-4503-a823-d1b76732db78",
   "metadata": {},
   "source": [
    "#### b) split data into train and test"
   ]
  },
  {
   "cell_type": "code",
   "execution_count": 11,
   "id": "9d5eb4fe-df39-42e1-8cf4-385880b43821",
   "metadata": {},
   "outputs": [
    {
     "name": "stdout",
     "output_type": "stream",
     "text": [
      "Data for Modeling: (7194, 13)\n",
      "Test / Unseen Data For Predictions: (1799, 13)\n"
     ]
    }
   ],
   "source": [
    "X_train, X_test, y_train, y_test = train_test_split(df[cat_cols+num_cols], df.target, test_size=0.2,random_state=42)\n",
    "print('Data for Modeling: ' + str(X_train.shape))\n",
    "print('Test / Unseen Data For Predictions: ' + str(X_test.shape))"
   ]
  },
  {
   "cell_type": "markdown",
   "id": "ea082a47-1328-43f5-8048-5313d271ee81",
   "metadata": {},
   "source": [
    "#### c) recombine target and features"
   ]
  },
  {
   "cell_type": "code",
   "execution_count": 12,
   "id": "e3159551-334c-4934-b029-2eca16dfd81f",
   "metadata": {},
   "outputs": [],
   "source": [
    "data_train_df = pd.concat([X_train,y_train],axis=1)\n",
    "data_test_df = pd.concat([X_test,y_test],axis=1)"
   ]
  },
  {
   "cell_type": "markdown",
   "id": "e2f5c9fd-2873-4adb-95c4-084b01448fc8",
   "metadata": {},
   "source": [
    "### model (xgb classifier)"
   ]
  },
  {
   "cell_type": "code",
   "execution_count": 13,
   "id": "a2675437-a5b9-4336-aab7-9d9e93286c54",
   "metadata": {},
   "outputs": [],
   "source": [
    "# specify target\n",
    "model_features = {\"numeric_features\":num_cols, \"categorical_features\":cat_cols, \"target\": \"target\"}"
   ]
  },
  {
   "cell_type": "code",
   "execution_count": 14,
   "id": "628d9ae6-cb33-4f1f-bb19-aa5cdb003966",
   "metadata": {},
   "outputs": [],
   "source": [
    "# xgb model params\n",
    "xgb_model_params = {'colsample_bytree': 1, 'learning_rate': 0.3, 'max_delta_step': 0, 'max_depth': 3, 'min_child_weight': 1, 'n_estimators': 100, 'subsample': 1, 'booster': 'gbtree', 'objective': 'binary:logistic', 'random_state': 40, 'scale_pos_weight': 1}"
   ]
  },
  {
   "cell_type": "code",
   "execution_count": 15,
   "id": "9b10fe5a-09af-48dd-8e30-8fe559b1f648",
   "metadata": {},
   "outputs": [],
   "source": [
    "# join parameters into one dictionary\n",
    "training_config = {**model_features, **xgb_model_params}"
   ]
  },
  {
   "cell_type": "code",
   "execution_count": 16,
   "id": "efc141b7-6ca4-4878-942c-b62426fea45b",
   "metadata": {},
   "outputs": [],
   "source": [
    "pipe_final = model.ClassificationModel(training_config)"
   ]
  },
  {
   "cell_type": "code",
   "execution_count": 17,
   "id": "c0650766-bb65-4796-9e87-67e18f6c1dde",
   "metadata": {},
   "outputs": [
    {
     "name": "stderr",
     "output_type": "stream",
     "text": [
      "\u001b[32m2023-09-11 20:19:49.708\u001b[0m | \u001b[1mINFO    \u001b[0m | \u001b[36mmodel\u001b[0m:\u001b[36mfit\u001b[0m:\u001b[36m117\u001b[0m - \u001b[1mStarting training\u001b[0m\n",
      "C:\\Users\\marke\\anaconda3\\envs\\py38\\lib\\site-packages\\sklearn\\preprocessing\\_encoders.py:868: FutureWarning: `sparse` was renamed to `sparse_output` in version 1.2 and will be removed in 1.4. `sparse_output` is ignored unless you leave `sparse` to its default value.\n",
      "  warnings.warn(\n",
      "C:\\Users\\marke\\anaconda3\\envs\\py38\\lib\\site-packages\\sklearn\\preprocessing\\_encoders.py:868: FutureWarning: `sparse` was renamed to `sparse_output` in version 1.2 and will be removed in 1.4. `sparse_output` is ignored unless you leave `sparse` to its default value.\n",
      "  warnings.warn(\n",
      "C:\\Users\\marke\\anaconda3\\envs\\py38\\lib\\site-packages\\sklearn\\preprocessing\\_encoders.py:868: FutureWarning: `sparse` was renamed to `sparse_output` in version 1.2 and will be removed in 1.4. `sparse_output` is ignored unless you leave `sparse` to its default value.\n",
      "  warnings.warn(\n",
      "C:\\Users\\marke\\anaconda3\\envs\\py38\\lib\\site-packages\\sklearn\\preprocessing\\_encoders.py:868: FutureWarning: `sparse` was renamed to `sparse_output` in version 1.2 and will be removed in 1.4. `sparse_output` is ignored unless you leave `sparse` to its default value.\n",
      "  warnings.warn(\n",
      "C:\\Users\\marke\\anaconda3\\envs\\py38\\lib\\site-packages\\sklearn\\preprocessing\\_encoders.py:868: FutureWarning: `sparse` was renamed to `sparse_output` in version 1.2 and will be removed in 1.4. `sparse_output` is ignored unless you leave `sparse` to its default value.\n",
      "  warnings.warn(\n",
      "C:\\Users\\marke\\anaconda3\\envs\\py38\\lib\\site-packages\\sklearn\\preprocessing\\_encoders.py:868: FutureWarning: `sparse` was renamed to `sparse_output` in version 1.2 and will be removed in 1.4. `sparse_output` is ignored unless you leave `sparse` to its default value.\n",
      "  warnings.warn(\n",
      "\u001b[32m2023-09-11 20:19:51.439\u001b[0m | \u001b[1mINFO    \u001b[0m | \u001b[36mmodel\u001b[0m:\u001b[36mfit\u001b[0m:\u001b[36m138\u001b[0m - \u001b[1mTraining complete for all models.\u001b[0m\n"
     ]
    }
   ],
   "source": [
    "pipe_final.fit(data_train_df)"
   ]
  },
  {
   "cell_type": "code",
   "execution_count": 18,
   "id": "7061cce9-eef4-451c-b055-595d435560fd",
   "metadata": {},
   "outputs": [
    {
     "name": "stderr",
     "output_type": "stream",
     "text": [
      "\u001b[32m2023-09-11 20:19:51.491\u001b[0m | \u001b[1mINFO    \u001b[0m | \u001b[36mmodel\u001b[0m:\u001b[36mevaluate\u001b[0m:\u001b[36m202\u001b[0m - \u001b[1mComputed metrics...\u001b[0m\n"
     ]
    },
    {
     "data": {
      "text/plain": [
       "(array([[0.7716086 , 0.22839142],\n",
       "        [0.1419295 , 0.8580705 ],\n",
       "        [0.5132678 , 0.48673218],\n",
       "        ...,\n",
       "        [0.9978479 , 0.0021521 ],\n",
       "        [0.02820557, 0.9717944 ],\n",
       "        [0.3578518 , 0.6421482 ]], dtype=float32),\n",
       " {'f1_score': 0.8084042021010506,\n",
       "  'roc_auc': 0.8683116704748349,\n",
       "  'precision': 0.800792864222002,\n",
       "  'recall': 0.8161616161616162,\n",
       "  'balanced_acc': 0.7838533667952704,\n",
       "  'accuracy': 0.7871039466370205})"
      ]
     },
     "execution_count": 18,
     "metadata": {},
     "output_type": "execute_result"
    }
   ],
   "source": [
    "# check accuracy on unseen\n",
    "pipe_final.evaluate(data_test_df)"
   ]
  },
  {
   "cell_type": "markdown",
   "id": "411a90c6-86fb-41e5-9f3d-667b4b4d22d4",
   "metadata": {},
   "source": [
    "### save model"
   ]
  },
  {
   "cell_type": "code",
   "execution_count": 19,
   "id": "dcb7de61-1562-46a3-b2a8-b879348efb2e",
   "metadata": {},
   "outputs": [
    {
     "name": "stderr",
     "output_type": "stream",
     "text": [
      "\u001b[32m2023-09-11 20:19:51.526\u001b[0m | \u001b[1mINFO    \u001b[0m | \u001b[36mmodel\u001b[0m:\u001b[36msave_model\u001b[0m:\u001b[36m226\u001b[0m - \u001b[1mSaved model to ./output/marketing_model.\u001b[0m\n",
      "\u001b[32m2023-09-11 20:19:51.528\u001b[0m | \u001b[1mINFO    \u001b[0m | \u001b[36mmodel\u001b[0m:\u001b[36msave_model\u001b[0m:\u001b[36m231\u001b[0m - \u001b[1mSaved training parameters to ./output/marketing_model.json.\u001b[0m\n"
     ]
    }
   ],
   "source": [
    "pipe_final.save_model(\"./output/marketing_model\")"
   ]
  },
  {
   "cell_type": "markdown",
   "id": "7b837556-1448-47fc-9a39-c1d597e43d88",
   "metadata": {},
   "source": [
    "### save data (use parquet as it size is smaller and saves data format)"
   ]
  },
  {
   "cell_type": "code",
   "execution_count": 20,
   "id": "c3e13047-439d-419e-87e8-ee62fd3a9d2d",
   "metadata": {},
   "outputs": [],
   "source": [
    "data_train_df.to_parquet(\"./output/data_train_df.parquet\",index=False)\n",
    "data_test_df.to_parquet(\"./output/data_test_df.parquet\",index=False)"
   ]
  },
  {
   "cell_type": "markdown",
   "id": "93889a65-531c-4ff4-9ed7-989746f35649",
   "metadata": {},
   "source": [
    "#### show pipeline transformation"
   ]
  },
  {
   "cell_type": "code",
   "execution_count": 21,
   "id": "e39ac4c7-432b-45dd-baf7-3050dee84754",
   "metadata": {},
   "outputs": [
    {
     "data": {
      "text/html": [
       "<style>#sk-container-id-1 {color: black;background-color: white;}#sk-container-id-1 pre{padding: 0;}#sk-container-id-1 div.sk-toggleable {background-color: white;}#sk-container-id-1 label.sk-toggleable__label {cursor: pointer;display: block;width: 100%;margin-bottom: 0;padding: 0.3em;box-sizing: border-box;text-align: center;}#sk-container-id-1 label.sk-toggleable__label-arrow:before {content: \"▸\";float: left;margin-right: 0.25em;color: #696969;}#sk-container-id-1 label.sk-toggleable__label-arrow:hover:before {color: black;}#sk-container-id-1 div.sk-estimator:hover label.sk-toggleable__label-arrow:before {color: black;}#sk-container-id-1 div.sk-toggleable__content {max-height: 0;max-width: 0;overflow: hidden;text-align: left;background-color: #f0f8ff;}#sk-container-id-1 div.sk-toggleable__content pre {margin: 0.2em;color: black;border-radius: 0.25em;background-color: #f0f8ff;}#sk-container-id-1 input.sk-toggleable__control:checked~div.sk-toggleable__content {max-height: 200px;max-width: 100%;overflow: auto;}#sk-container-id-1 input.sk-toggleable__control:checked~label.sk-toggleable__label-arrow:before {content: \"▾\";}#sk-container-id-1 div.sk-estimator input.sk-toggleable__control:checked~label.sk-toggleable__label {background-color: #d4ebff;}#sk-container-id-1 div.sk-label input.sk-toggleable__control:checked~label.sk-toggleable__label {background-color: #d4ebff;}#sk-container-id-1 input.sk-hidden--visually {border: 0;clip: rect(1px 1px 1px 1px);clip: rect(1px, 1px, 1px, 1px);height: 1px;margin: -1px;overflow: hidden;padding: 0;position: absolute;width: 1px;}#sk-container-id-1 div.sk-estimator {font-family: monospace;background-color: #f0f8ff;border: 1px dotted black;border-radius: 0.25em;box-sizing: border-box;margin-bottom: 0.5em;}#sk-container-id-1 div.sk-estimator:hover {background-color: #d4ebff;}#sk-container-id-1 div.sk-parallel-item::after {content: \"\";width: 100%;border-bottom: 1px solid gray;flex-grow: 1;}#sk-container-id-1 div.sk-label:hover label.sk-toggleable__label {background-color: #d4ebff;}#sk-container-id-1 div.sk-serial::before {content: \"\";position: absolute;border-left: 1px solid gray;box-sizing: border-box;top: 0;bottom: 0;left: 50%;z-index: 0;}#sk-container-id-1 div.sk-serial {display: flex;flex-direction: column;align-items: center;background-color: white;padding-right: 0.2em;padding-left: 0.2em;position: relative;}#sk-container-id-1 div.sk-item {position: relative;z-index: 1;}#sk-container-id-1 div.sk-parallel {display: flex;align-items: stretch;justify-content: center;background-color: white;position: relative;}#sk-container-id-1 div.sk-item::before, #sk-container-id-1 div.sk-parallel-item::before {content: \"\";position: absolute;border-left: 1px solid gray;box-sizing: border-box;top: 0;bottom: 0;left: 50%;z-index: -1;}#sk-container-id-1 div.sk-parallel-item {display: flex;flex-direction: column;z-index: 1;position: relative;background-color: white;}#sk-container-id-1 div.sk-parallel-item:first-child::after {align-self: flex-end;width: 50%;}#sk-container-id-1 div.sk-parallel-item:last-child::after {align-self: flex-start;width: 50%;}#sk-container-id-1 div.sk-parallel-item:only-child::after {width: 0;}#sk-container-id-1 div.sk-dashed-wrapped {border: 1px dashed gray;margin: 0 0.4em 0.5em 0.4em;box-sizing: border-box;padding-bottom: 0.4em;background-color: white;}#sk-container-id-1 div.sk-label label {font-family: monospace;font-weight: bold;display: inline-block;line-height: 1.2em;}#sk-container-id-1 div.sk-label-container {text-align: center;}#sk-container-id-1 div.sk-container {/* jupyter's `normalize.less` sets `[hidden] { display: none; }` but bootstrap.min.css set `[hidden] { display: none !important; }` so we also need the `!important` here to be able to override the default hidden behavior on the sphinx rendered scikit-learn.org. See: https://github.com/scikit-learn/scikit-learn/issues/21755 */display: inline-block !important;position: relative;}#sk-container-id-1 div.sk-text-repr-fallback {display: none;}</style><div id=\"sk-container-id-1\" class=\"sk-top-container\"><div class=\"sk-text-repr-fallback\"><pre>Pipeline(steps=[(&#x27;preprocessor&#x27;,\n",
       "                 ColumnTransformer(transformers=[(&#x27;pp_num&#x27;,\n",
       "                                                  Pipeline(steps=[(&#x27;num_imp&#x27;,\n",
       "                                                                   SimpleImputer(fill_value=-1,\n",
       "                                                                                 strategy=&#x27;constant&#x27;))]),\n",
       "                                                  [&#x27;age&#x27;, &#x27;years_in_sf&#x27;,\n",
       "                                                   &#x27;household_members&#x27;,\n",
       "                                                   &#x27;under_18&#x27;]),\n",
       "                                                 (&#x27;pp_cat&#x27;,\n",
       "                                                  Pipeline(steps=[(&#x27;cat_imp&#x27;,\n",
       "                                                                   SimpleImputer(fill_value=&#x27;missing&#x27;,\n",
       "                                                                                 strategy=&#x27;constant&#x27;)),\n",
       "                                                                  (&#x27;cat_ohe&#x27;,\n",
       "                                                                   OneHotEncoder(handle_unknown=&#x27;ignore&#x27;,...\n",
       "                               gamma=0, gpu_id=-1, grow_policy=&#x27;depthwise&#x27;,\n",
       "                               importance_type=None, interaction_constraints=&#x27;&#x27;,\n",
       "                               learning_rate=0.300000012, max_bin=256,\n",
       "                               max_cat_to_onehot=4, max_delta_step=0,\n",
       "                               max_depth=6, max_leaves=0, min_child_weight=1,\n",
       "                               missing=nan, monotone_constraints=&#x27;()&#x27;,\n",
       "                               n_estimators=100, n_jobs=0, num_parallel_tree=1,\n",
       "                               predictor=&#x27;auto&#x27;, random_state=0, reg_alpha=0,\n",
       "                               reg_lambda=1, ...))])</pre><b>In a Jupyter environment, please rerun this cell to show the HTML representation or trust the notebook. <br />On GitHub, the HTML representation is unable to render, please try loading this page with nbviewer.org.</b></div><div class=\"sk-container\" hidden><div class=\"sk-item sk-dashed-wrapped\"><div class=\"sk-label-container\"><div class=\"sk-label sk-toggleable\"><input class=\"sk-toggleable__control sk-hidden--visually\" id=\"sk-estimator-id-1\" type=\"checkbox\" ><label for=\"sk-estimator-id-1\" class=\"sk-toggleable__label sk-toggleable__label-arrow\">Pipeline</label><div class=\"sk-toggleable__content\"><pre>Pipeline(steps=[(&#x27;preprocessor&#x27;,\n",
       "                 ColumnTransformer(transformers=[(&#x27;pp_num&#x27;,\n",
       "                                                  Pipeline(steps=[(&#x27;num_imp&#x27;,\n",
       "                                                                   SimpleImputer(fill_value=-1,\n",
       "                                                                                 strategy=&#x27;constant&#x27;))]),\n",
       "                                                  [&#x27;age&#x27;, &#x27;years_in_sf&#x27;,\n",
       "                                                   &#x27;household_members&#x27;,\n",
       "                                                   &#x27;under_18&#x27;]),\n",
       "                                                 (&#x27;pp_cat&#x27;,\n",
       "                                                  Pipeline(steps=[(&#x27;cat_imp&#x27;,\n",
       "                                                                   SimpleImputer(fill_value=&#x27;missing&#x27;,\n",
       "                                                                                 strategy=&#x27;constant&#x27;)),\n",
       "                                                                  (&#x27;cat_ohe&#x27;,\n",
       "                                                                   OneHotEncoder(handle_unknown=&#x27;ignore&#x27;,...\n",
       "                               gamma=0, gpu_id=-1, grow_policy=&#x27;depthwise&#x27;,\n",
       "                               importance_type=None, interaction_constraints=&#x27;&#x27;,\n",
       "                               learning_rate=0.300000012, max_bin=256,\n",
       "                               max_cat_to_onehot=4, max_delta_step=0,\n",
       "                               max_depth=6, max_leaves=0, min_child_weight=1,\n",
       "                               missing=nan, monotone_constraints=&#x27;()&#x27;,\n",
       "                               n_estimators=100, n_jobs=0, num_parallel_tree=1,\n",
       "                               predictor=&#x27;auto&#x27;, random_state=0, reg_alpha=0,\n",
       "                               reg_lambda=1, ...))])</pre></div></div></div><div class=\"sk-serial\"><div class=\"sk-item sk-dashed-wrapped\"><div class=\"sk-label-container\"><div class=\"sk-label sk-toggleable\"><input class=\"sk-toggleable__control sk-hidden--visually\" id=\"sk-estimator-id-2\" type=\"checkbox\" ><label for=\"sk-estimator-id-2\" class=\"sk-toggleable__label sk-toggleable__label-arrow\">preprocessor: ColumnTransformer</label><div class=\"sk-toggleable__content\"><pre>ColumnTransformer(transformers=[(&#x27;pp_num&#x27;,\n",
       "                                 Pipeline(steps=[(&#x27;num_imp&#x27;,\n",
       "                                                  SimpleImputer(fill_value=-1,\n",
       "                                                                strategy=&#x27;constant&#x27;))]),\n",
       "                                 [&#x27;age&#x27;, &#x27;years_in_sf&#x27;, &#x27;household_members&#x27;,\n",
       "                                  &#x27;under_18&#x27;]),\n",
       "                                (&#x27;pp_cat&#x27;,\n",
       "                                 Pipeline(steps=[(&#x27;cat_imp&#x27;,\n",
       "                                                  SimpleImputer(fill_value=&#x27;missing&#x27;,\n",
       "                                                                strategy=&#x27;constant&#x27;)),\n",
       "                                                 (&#x27;cat_ohe&#x27;,\n",
       "                                                  OneHotEncoder(handle_unknown=&#x27;ignore&#x27;,\n",
       "                                                                sparse=False))]),\n",
       "                                 [&#x27;sex&#x27;, &#x27;marital_status&#x27;, &#x27;education&#x27;,\n",
       "                                  &#x27;occupation&#x27;, &#x27;dual_income&#x27;,\n",
       "                                  &#x27;household_status&#x27;, &#x27;type_of_home&#x27;,\n",
       "                                  &#x27;ethnic_class&#x27;, &#x27;language&#x27;])])</pre></div></div></div><div class=\"sk-parallel\"><div class=\"sk-parallel-item\"><div class=\"sk-item\"><div class=\"sk-label-container\"><div class=\"sk-label sk-toggleable\"><input class=\"sk-toggleable__control sk-hidden--visually\" id=\"sk-estimator-id-3\" type=\"checkbox\" ><label for=\"sk-estimator-id-3\" class=\"sk-toggleable__label sk-toggleable__label-arrow\">pp_num</label><div class=\"sk-toggleable__content\"><pre>[&#x27;age&#x27;, &#x27;years_in_sf&#x27;, &#x27;household_members&#x27;, &#x27;under_18&#x27;]</pre></div></div></div><div class=\"sk-serial\"><div class=\"sk-item\"><div class=\"sk-serial\"><div class=\"sk-item\"><div class=\"sk-estimator sk-toggleable\"><input class=\"sk-toggleable__control sk-hidden--visually\" id=\"sk-estimator-id-4\" type=\"checkbox\" ><label for=\"sk-estimator-id-4\" class=\"sk-toggleable__label sk-toggleable__label-arrow\">SimpleImputer</label><div class=\"sk-toggleable__content\"><pre>SimpleImputer(fill_value=-1, strategy=&#x27;constant&#x27;)</pre></div></div></div></div></div></div></div></div><div class=\"sk-parallel-item\"><div class=\"sk-item\"><div class=\"sk-label-container\"><div class=\"sk-label sk-toggleable\"><input class=\"sk-toggleable__control sk-hidden--visually\" id=\"sk-estimator-id-5\" type=\"checkbox\" ><label for=\"sk-estimator-id-5\" class=\"sk-toggleable__label sk-toggleable__label-arrow\">pp_cat</label><div class=\"sk-toggleable__content\"><pre>[&#x27;sex&#x27;, &#x27;marital_status&#x27;, &#x27;education&#x27;, &#x27;occupation&#x27;, &#x27;dual_income&#x27;, &#x27;household_status&#x27;, &#x27;type_of_home&#x27;, &#x27;ethnic_class&#x27;, &#x27;language&#x27;]</pre></div></div></div><div class=\"sk-serial\"><div class=\"sk-item\"><div class=\"sk-serial\"><div class=\"sk-item\"><div class=\"sk-estimator sk-toggleable\"><input class=\"sk-toggleable__control sk-hidden--visually\" id=\"sk-estimator-id-6\" type=\"checkbox\" ><label for=\"sk-estimator-id-6\" class=\"sk-toggleable__label sk-toggleable__label-arrow\">SimpleImputer</label><div class=\"sk-toggleable__content\"><pre>SimpleImputer(fill_value=&#x27;missing&#x27;, strategy=&#x27;constant&#x27;)</pre></div></div></div><div class=\"sk-item\"><div class=\"sk-estimator sk-toggleable\"><input class=\"sk-toggleable__control sk-hidden--visually\" id=\"sk-estimator-id-7\" type=\"checkbox\" ><label for=\"sk-estimator-id-7\" class=\"sk-toggleable__label sk-toggleable__label-arrow\">OneHotEncoder</label><div class=\"sk-toggleable__content\"><pre>OneHotEncoder(handle_unknown=&#x27;ignore&#x27;, sparse=False)</pre></div></div></div></div></div></div></div></div></div></div><div class=\"sk-item\"><div class=\"sk-estimator sk-toggleable\"><input class=\"sk-toggleable__control sk-hidden--visually\" id=\"sk-estimator-id-8\" type=\"checkbox\" ><label for=\"sk-estimator-id-8\" class=\"sk-toggleable__label sk-toggleable__label-arrow\">XGBClassifier</label><div class=\"sk-toggleable__content\"><pre>XGBClassifier(base_score=0.5, booster=&#x27;gbtree&#x27;, callbacks=None,\n",
       "              colsample_bylevel=1, colsample_bynode=1, colsample_bytree=1,\n",
       "              early_stopping_rounds=None, enable_categorical=False,\n",
       "              eval_metric=None, gamma=0, gpu_id=-1, grow_policy=&#x27;depthwise&#x27;,\n",
       "              importance_type=None, interaction_constraints=&#x27;&#x27;,\n",
       "              learning_rate=0.300000012, max_bin=256, max_cat_to_onehot=4,\n",
       "              max_delta_step=0, max_depth=6, max_leaves=0, min_child_weight=1,\n",
       "              missing=nan, monotone_constraints=&#x27;()&#x27;, n_estimators=100,\n",
       "              n_jobs=0, num_parallel_tree=1, predictor=&#x27;auto&#x27;, random_state=0,\n",
       "              reg_alpha=0, reg_lambda=1, ...)</pre></div></div></div></div></div></div></div>"
      ],
      "text/plain": [
       "Pipeline(steps=[('preprocessor',\n",
       "                 ColumnTransformer(transformers=[('pp_num',\n",
       "                                                  Pipeline(steps=[('num_imp',\n",
       "                                                                   SimpleImputer(fill_value=-1,\n",
       "                                                                                 strategy='constant'))]),\n",
       "                                                  ['age', 'years_in_sf',\n",
       "                                                   'household_members',\n",
       "                                                   'under_18']),\n",
       "                                                 ('pp_cat',\n",
       "                                                  Pipeline(steps=[('cat_imp',\n",
       "                                                                   SimpleImputer(fill_value='missing',\n",
       "                                                                                 strategy='constant')),\n",
       "                                                                  ('cat_ohe',\n",
       "                                                                   OneHotEncoder(handle_unknown='ignore',...\n",
       "                               gamma=0, gpu_id=-1, grow_policy='depthwise',\n",
       "                               importance_type=None, interaction_constraints='',\n",
       "                               learning_rate=0.300000012, max_bin=256,\n",
       "                               max_cat_to_onehot=4, max_delta_step=0,\n",
       "                               max_depth=6, max_leaves=0, min_child_weight=1,\n",
       "                               missing=nan, monotone_constraints='()',\n",
       "                               n_estimators=100, n_jobs=0, num_parallel_tree=1,\n",
       "                               predictor='auto', random_state=0, reg_alpha=0,\n",
       "                               reg_lambda=1, ...))])"
      ]
     },
     "execution_count": 21,
     "metadata": {},
     "output_type": "execute_result"
    }
   ],
   "source": [
    "set_config(display='diagram')\n",
    "pipe_final.model_instance"
   ]
  },
  {
   "cell_type": "markdown",
   "id": "0df18359-dfd3-43cf-aff9-516166e0a366",
   "metadata": {},
   "source": [
    "#### show 'transformed' feature names"
   ]
  },
  {
   "cell_type": "code",
   "execution_count": 22,
   "id": "4c4ff589-d830-428e-9a98-d50682f7a441",
   "metadata": {},
   "outputs": [
    {
     "data": {
      "text/plain": [
       "['age',\n",
       " 'years_in_sf',\n",
       " 'household_members',\n",
       " 'under_18',\n",
       " 'sex_1',\n",
       " 'sex_2',\n",
       " 'marital_status_1.0',\n",
       " 'marital_status_2.0',\n",
       " 'marital_status_3.0',\n",
       " 'marital_status_4.0',\n",
       " 'marital_status_5.0',\n",
       " 'marital_status_nan',\n",
       " 'education_1.0',\n",
       " 'education_2.0',\n",
       " 'education_3.0',\n",
       " 'education_4.0',\n",
       " 'education_5.0',\n",
       " 'education_6.0',\n",
       " 'education_nan',\n",
       " 'occupation_1.0',\n",
       " 'occupation_2.0',\n",
       " 'occupation_3.0',\n",
       " 'occupation_4.0',\n",
       " 'occupation_5.0',\n",
       " 'occupation_6.0',\n",
       " 'occupation_7.0',\n",
       " 'occupation_8.0',\n",
       " 'occupation_9.0',\n",
       " 'occupation_nan',\n",
       " 'dual_income_1',\n",
       " 'dual_income_2',\n",
       " 'dual_income_3',\n",
       " 'household_status_1.0',\n",
       " 'household_status_2.0',\n",
       " 'household_status_3.0',\n",
       " 'household_status_nan',\n",
       " 'type_of_home_1.0',\n",
       " 'type_of_home_2.0',\n",
       " 'type_of_home_3.0',\n",
       " 'type_of_home_4.0',\n",
       " 'type_of_home_5.0',\n",
       " 'type_of_home_nan',\n",
       " 'ethnic_class_1.0',\n",
       " 'ethnic_class_2.0',\n",
       " 'ethnic_class_3.0',\n",
       " 'ethnic_class_4.0',\n",
       " 'ethnic_class_5.0',\n",
       " 'ethnic_class_6.0',\n",
       " 'ethnic_class_7.0',\n",
       " 'ethnic_class_8.0',\n",
       " 'ethnic_class_nan',\n",
       " 'language_1.0',\n",
       " 'language_2.0',\n",
       " 'language_3.0',\n",
       " 'language_nan']"
      ]
     },
     "execution_count": 22,
     "metadata": {},
     "output_type": "execute_result"
    }
   ],
   "source": [
    "pipe_final.get_transformed_feature_names()"
   ]
  },
  {
   "cell_type": "code",
   "execution_count": null,
   "id": "599e1725-088c-4366-9308-7986a49de339",
   "metadata": {},
   "outputs": [],
   "source": []
  }
 ],
 "metadata": {
  "environment": {
   "kernel": "python3",
   "name": "tf2-cpu.2-11.m103",
   "type": "gcloud",
   "uri": "gcr.io/deeplearning-platform-release/tf2-cpu.2-11:m103"
  },
  "kernelspec": {
   "display_name": "Python 3 (ipykernel)",
   "language": "python",
   "name": "python3"
  },
  "language_info": {
   "codemirror_mode": {
    "name": "ipython",
    "version": 3
   },
   "file_extension": ".py",
   "mimetype": "text/x-python",
   "name": "python",
   "nbconvert_exporter": "python",
   "pygments_lexer": "ipython3",
   "version": "3.8.13"
  }
 },
 "nbformat": 4,
 "nbformat_minor": 5
}
